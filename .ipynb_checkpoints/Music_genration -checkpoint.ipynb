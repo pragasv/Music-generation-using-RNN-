{
 "cells": [
  {
   "cell_type": "code",
   "execution_count": 1,
   "metadata": {},
   "outputs": [],
   "source": [
    "import tensorflow as tf \n",
    "import cv2 \n",
    "import mitdeeplearning as mdl \n",
    "from mitdeeplearning import lab1 as lab1\n",
    "import numpy as np \n",
    "import os \n",
    "import time \n",
    "import functools\n",
    "from IPython import display as ipythondisplay\n",
    "from tqdm import tqdm"
   ]
  },
  {
   "cell_type": "code",
   "execution_count": 2,
   "metadata": {},
   "outputs": [
    {
     "name": "stdout",
     "output_type": "stream",
     "text": [
      "Found 816 songs in text\n",
      "example song :\n",
      "X:2\n",
      "T:An Buachaill Dreoite\n",
      "Z: id:dc-hornpipe-2\n",
      "M:C|\n",
      "L:1/8\n",
      "K:G Major\n",
      "GF|DGGB d2GB|d2GF Gc (3AGF|DGGB d2GB|dBcA F2GF|!\n",
      "DGGB d2GF|DGGF G2Ge|fgaf gbag|fdcA G2:|!\n",
      "GA|B2BG c2cA|d2GF G2GA|B2BG c2cA|d2DE F2GA|!\n",
      "B2BG c2cA|d^cde f2 (3def|g2gf gbag|fdcA G2:|!\n"
     ]
    }
   ],
   "source": [
    "#download the data set \n",
    "songs = lab1.load_training_data()\n",
    "\n",
    "#print one of the songs to inspect it in greater detail \n",
    "example_song = songs[0]\n",
    "print(\"example song :\")\n",
    "print(example_song)"
   ]
  },
  {
   "cell_type": "code",
   "execution_count": 3,
   "metadata": {},
   "outputs": [],
   "source": [
    "#covert the ABC notation to an audio file and listen to it \n",
    "lab1.play_song(example_song)"
   ]
  },
  {
   "cell_type": "code",
   "execution_count": 4,
   "metadata": {},
   "outputs": [
    {
     "name": "stdout",
     "output_type": "stream",
     "text": [
      "There are 83 unique chracters in the dataset\n"
     ]
    }
   ],
   "source": [
    "#join our list of songs into a singl strand \n",
    "songs_joined = \"\\n\\n\".join(songs)\n",
    "\n",
    "#find all unique characters in the joined string \n",
    "vocab = sorted(set(songs_joined))\n",
    "print(\"There are\",len(vocab),\"unique chracters in the dataset\")"
   ]
  },
  {
   "cell_type": "code",
   "execution_count": 5,
   "metadata": {},
   "outputs": [],
   "source": [
    "# process the dataset for the learning task \n",
    "\n",
    "#create a mapping  from chracter to a unique index \n",
    "char2idx = {u:i for i ,u in enumerate(vocab)}\n",
    "\n",
    "#create a mapping from index to characters (inverse of char2idx)\n",
    "idx2char = np.array(vocab)"
   ]
  },
  {
   "cell_type": "code",
   "execution_count": 6,
   "metadata": {},
   "outputs": [
    {
     "name": "stdout",
     "output_type": "stream",
     "text": [
      "{\n",
      "  '\\n':    0,\n",
      "  ' ' :    1,\n",
      "  '!' :    2,\n",
      "  '\"' :    3,\n",
      "  '#' :    4,\n",
      "  \"'\" :    5,\n",
      "  '(' :    6,\n",
      "  ')' :    7,\n",
      "  ',' :    8,\n",
      "  '-' :    9,\n",
      "  '.' :   10,\n",
      "  '/' :   11,\n",
      "  '0' :   12,\n",
      "  '1' :   13,\n",
      "  '2' :   14,\n",
      "  '3' :   15,\n",
      "  '4' :   16,\n",
      "  '5' :   17,\n",
      "  '6' :   18,\n",
      "  '7' :   19,\n",
      "  .....\n",
      "}\n"
     ]
    }
   ],
   "source": [
    "print('{')\n",
    "for char, _ in zip(char2idx, range(20)):\n",
    "    print('  {:4s}:  {:3d},'.format(repr(char), char2idx[char]))\n",
    "print('  .....\\n}')"
   ]
  },
  {
   "cell_type": "code",
   "execution_count": 7,
   "metadata": {},
   "outputs": [],
   "source": [
    "#vectorize the songs string \n",
    "\n",
    "def vectorize_string(string):\n",
    "    #TODO\n",
    "    lis = []\n",
    "    for i in range(len(string)):\n",
    "        lis.append(char2idx[string[i]])\n",
    "    return np.array(lis)\n",
    "\n",
    "vectorized_songs = vectorize_string(songs_joined)    "
   ]
  },
  {
   "cell_type": "code",
   "execution_count": 8,
   "metadata": {},
   "outputs": [
    {
     "name": "stdout",
     "output_type": "stream",
     "text": [
      "'X:2\\nT:An B' --- characters mapped to int --->[49 22 14  0 45 22 26 69  1 27]\n"
     ]
    }
   ],
   "source": [
    "print('{} --- characters mapped to int --->{}'.format(repr(songs_joined[:10]), vectorized_songs[:10]))\n",
    "#check that vectorized_songs is a numpy array \n",
    "assert isinstance(vectorized_songs, np.ndarray),\"returned result should be a numpy array\""
   ]
  },
  {
   "cell_type": "code",
   "execution_count": 9,
   "metadata": {},
   "outputs": [
    {
     "name": "stdout",
     "output_type": "stream",
     "text": [
      "[PASS] test_batch_func_types\n",
      "[PASS] test_batch_func_shapes\n",
      "[PASS] test_batch_func_next_step\n",
      "=====\n",
      "[PASS] passed all tests]\n"
     ]
    }
   ],
   "source": [
    "#batch definition to create training examples \n",
    "\n",
    "def get_batch(vectorized_songs, seq_length, batch_size):\n",
    "    #length of vectorized songs strings\n",
    "    n = vectorized_songs.shape[0] -1\n",
    "    #randomly choose the startin indices for the examples in the training batch \n",
    "    idx = np.random.choice(n - seq_length, batch_size)\n",
    "    \n",
    "    input_batch = []\n",
    "    output_batch = []\n",
    "    \n",
    "    for i in idx:\n",
    "        input_batch.append(vectorized_songs[i : i+seq_length])\n",
    "    \n",
    "        output_batch.append(vectorized_songs[i+1 : i+1+seq_length])\n",
    "    \n",
    "    #x_batch, y_batch provie the true input and targets for networking traning \n",
    "    x_batch = np.reshape(input_batch, [batch_size, seq_length])\n",
    "    y_batch = np.reshape(output_batch, [batch_size, seq_length])\n",
    "    return x_batch, y_batch \n",
    "\n",
    "\n",
    "#performe some simple tests to make sure you batch functon is working properly \n",
    "test_args = (vectorized_songs, 10, 2)\n",
    "if not mdl.lab1.test_batch_func_types(get_batch, test_args) or \\\n",
    "   not mdl.lab1.test_batch_func_shapes(get_batch, test_args) or \\\n",
    "   not mdl.lab1.test_batch_func_next_step(get_batch, test_args): \n",
    "    print('=====\\n[FAIL] could not pass tests')\n",
    "else: \n",
    "    print('=====\\n[PASS] passed all tests]')"
   ]
  },
  {
   "cell_type": "code",
   "execution_count": 21,
   "metadata": {},
   "outputs": [
    {
     "name": "stdout",
     "output_type": "stream",
     "text": [
      "step   0\n",
      " input: 30 ('E') \n",
      " expected output: 29 ('D')\n",
      "step   1\n",
      " input: 29 ('D') \n",
      " expected output: 82 ('|')\n",
      "step   2\n",
      " input: 82 ('|') \n",
      " expected output: 27 ('B')\n",
      "step   3\n",
      " input: 27 ('B') \n",
      " expected output: 26 ('A')\n",
      "step   4\n",
      " input: 26 ('A') \n",
      " expected output: 27 ('B')\n"
     ]
    }
   ],
   "source": [
    "x_batch, y_batch = get_batch(vectorized_songs, seq_length=5, batch_size=1)\n",
    "\n",
    "for i, (input_idx, target_idx) in enumerate(zip(np.squeeze(x_batch), np.squeeze(y_batch))):\n",
    "    print(\"step {:3d}\".format(i))\n",
    "    print(\" input: {} ({:s}) \".format(input_idx, repr(idx2char[input_idx])))\n",
    "    print(\" expected output: {} ({:s})\".format(target_idx, repr(idx2char[target_idx])))"
   ]
  },
  {
   "cell_type": "code",
   "execution_count": 22,
   "metadata": {},
   "outputs": [],
   "source": [
    "# RNN model \n",
    "def LSTM(rnn_units):\n",
    "    return tf.keras.layers.LSTM(\n",
    "        rnn_units,\n",
    "        return_sequences = True,\n",
    "        recurrent_initializer = 'glorot_uniform',\n",
    "        recurrent_activation= 'sigmoid',\n",
    "        stateful = True,\n",
    "    )\n",
    "\n",
    "def build_model(vocab_size, embedding_dim, rnn_units, batch_size):\n",
    "    model = tf.keras.Sequential([\n",
    "        tf.keras.layers.Embedding(vocab_size, embedding_dim, batch_input_shape=[batch_size, None]),\n",
    "        LSTM(rnn_units),\n",
    "        tf.keras.layers.Dense(vocab_size)\n",
    "    ])\n",
    "    return model\n",
    "\n",
    "#build a sample model with default hyper parameters \n",
    "model = build_model(len(vocab), embedding_dim=256, rnn_units=1024, batch_size=32)"
   ]
  },
  {
   "cell_type": "code",
   "execution_count": 23,
   "metadata": {},
   "outputs": [
    {
     "name": "stdout",
     "output_type": "stream",
     "text": [
      "Model: \"sequential_2\"\n",
      "_________________________________________________________________\n",
      "Layer (type)                 Output Shape              Param #   \n",
      "=================================================================\n",
      "embedding_2 (Embedding)      (32, None, 256)           21248     \n",
      "_________________________________________________________________\n",
      "lstm_2 (LSTM)                (32, None, 1024)          5246976   \n",
      "_________________________________________________________________\n",
      "dense_2 (Dense)              (32, None, 83)            85075     \n",
      "=================================================================\n",
      "Total params: 5,353,299\n",
      "Trainable params: 5,353,299\n",
      "Non-trainable params: 0\n",
      "_________________________________________________________________\n"
     ]
    }
   ],
   "source": [
    "#test our model \n",
    "model.summary()"
   ]
  },
  {
   "cell_type": "code",
   "execution_count": 24,
   "metadata": {},
   "outputs": [
    {
     "name": "stdout",
     "output_type": "stream",
     "text": [
      " Input shape:  (32, 100) # (batch_size, sequence_length)\n",
      " prediction shape:  (32, 100, 83) # (batch_size, sequence_length)\n"
     ]
    }
   ],
   "source": [
    "x, y = get_batch(vectorized_songs, seq_length=100, batch_size=32)\n",
    "pred = model(x)\n",
    "print(' Input shape: ',x.shape,'# (batch_size, sequence_length)')\n",
    "print(' prediction shape: ',pred.shape, '# (batch_size, sequence_length)')"
   ]
  },
  {
   "cell_type": "code",
   "execution_count": 25,
   "metadata": {},
   "outputs": [
    {
     "data": {
      "text/plain": [
       "array([70, 74, 60,  0, 34, 82, 52,  4, 47, 21, 16, 58, 29,  1, 38, 20, 14,\n",
       "       47, 50, 58, 63,  3, 53, 82, 39, 19, 21, 46, 49, 68, 82, 12, 74, 57,\n",
       "        1, 42, 30, 12, 44, 12, 33, 38, 29, 52,  8, 49, 22, 22, 28,  5, 65,\n",
       "       50, 76, 58,  9, 57,  2, 75, 17, 67, 49, 20, 20, 81, 45,  1, 51, 37,\n",
       "       19, 41, 78, 55, 22, 67,  8, 60, 76, 63, 73, 63, 68,  4, 37, 34, 16,\n",
       "       56, 39, 43, 80, 52, 49, 22, 49, 80, 32, 45, 15, 38, 75,  7],\n",
       "      dtype=int64)"
      ]
     },
     "execution_count": 25,
     "metadata": {},
     "output_type": "execute_result"
    }
   ],
   "source": [
    "sampled_indices = tf.random.categorical(pred[0], num_samples=1)\n",
    "sampled_indices = tf.squeeze(sampled_indices, axis=-1).numpy()\n",
    "sampled_indices"
   ]
  },
  {
   "cell_type": "code",
   "execution_count": 26,
   "metadata": {},
   "outputs": [
    {
     "name": "stdout",
     "output_type": "stream",
     "text": [
      "input: \n",
      " ' FAF|GEE E2F|DFA dAG|FDD DEF|!\\nGFG AGA|BAB gfg|edB BAF|GEE E2:|!\\nF|G2G dBG|GBd dBG|A2A ecA|Ace ecA|!'\n",
      "\n",
      "next char predictions : \n",
      " 'ose\\nI|[#V94cD M82VYch\"]|N79UXm|0sb QE0S0HMD[,X::C\\'jYuc-b!t5lX88zT ZL7Pw_:l,euhrhm#LI4aNRy[X:XyGT3Mt)'\n"
     ]
    }
   ],
   "source": [
    "print('input: \\n', repr(\"\".join(idx2char[x[0]])))\n",
    "print()\n",
    "print('next char predictions : \\n',repr(\"\".join(idx2char[sampled_indices])))"
   ]
  },
  {
   "cell_type": "code",
   "execution_count": 27,
   "metadata": {},
   "outputs": [
    {
     "name": "stdout",
     "output_type": "stream",
     "text": [
      "predicted shape:  (32, 100, 83) # (batch_size, sequence_length, vocab_size)\n",
      "scalar loss:  4.4187083\n"
     ]
    }
   ],
   "source": [
    "# training the model \n",
    "\n",
    "def compute_loss(labels, logits):\n",
    "    loss = tf.keras.losses.sparse_categorical_crossentropy( labels, logits, from_logits=True)\n",
    "    return loss\n",
    "\n",
    "example_batch_loss = compute_loss(y,pred)\n",
    "print('predicted shape: ', pred.shape, '# (batch_size, sequence_length, vocab_size)')\n",
    "print('scalar loss: ',example_batch_loss.numpy().mean())"
   ]
  },
  {
   "cell_type": "code",
   "execution_count": 28,
   "metadata": {},
   "outputs": [],
   "source": [
    "# hyper parameters and optimization \n",
    "\n",
    "#optimization parameters \n",
    "num_training_iterations = 4000   #increase this to train longer \n",
    "batch_size = 4   #experiment between 1 and 64 \n",
    "seq_length = 100   #experiment between 50 and 500 \n",
    "learning_rate = 1e-3 # experiment between 1e-5 and 1e-1\n",
    "\n",
    "#model paramters: \n",
    "vocab_size = len(vocab)\n",
    "embedding_dim = 256\n",
    "rnn_units = 1024 #experiment between 1 and 2048 \n",
    "\n",
    "#check point location: \n",
    "checkpoint_dir ='./training_checkpoints'\n",
    "checkpoint_prefix = os.path.join(checkpoint_dir, \"my_ckpt\")"
   ]
  },
  {
   "cell_type": "code",
   "execution_count": 29,
   "metadata": {},
   "outputs": [],
   "source": [
    "#define optimizer and training operation \n",
    "\n",
    "model =  build_model(vocab_size, embedding_dim, rnn_units, batch_size)\n",
    "optimizer = tf.keras.optimizers.Adam(learning_rate)\n",
    "\n",
    "@tf.function \n",
    "def train_step(x,y):\n",
    "    with tf.GradientTape() as tape: \n",
    "        y_hat = model(x)\n",
    "        loss = compute_loss(y, y_hat)\n",
    "    grads = tape.gradient(loss, model.trainable_variables)\n",
    "    \n",
    "    #apply the gradient to the optimizer \n",
    "    optimizer.apply_gradients(zip(grads, model.trainable_variables))\n",
    "    return loss "
   ]
  },
  {
   "cell_type": "code",
   "execution_count": 19,
   "metadata": {},
   "outputs": [
    {
     "data": {
      "image/png": "[encoded data removed]",
      "text/plain": [
       "<Figure size 432x288 with 1 Axes>"
      ]
     },
     "metadata": {},
     "output_type": "display_data"
    },
    {
     "name": "stderr",
     "output_type": "stream",
     "text": [
      "100%|███████████████████████████████████████████████████████████████████████████| 4000/4000 [10:00:08<00:00,  9.00s/it]\n"
     ]
    },
    {
     "data": {
      "image/png": "[encoded data removed]",
      "text/plain": [
       "<Figure size 432x288 with 1 Axes>"
      ]
     },
     "metadata": {
      "needs_background": "light"
     },
     "output_type": "display_data"
    }
   ],
   "source": [
    "#####################\n",
    "#  begin training   #\n",
    "#####################\n",
    "\n",
    "history = []\n",
    "plotter = mdl.util.PeriodicPlotter(sec=2, xlabel='Iterations', ylabel='Loss')\n",
    "if hasattr(tqdm, '_instances'): tqdm._instances.clear()  #clear if it exits \n",
    "    \n",
    "for iter in tqdm(range(num_training_iterations)):\n",
    "    #grab a batch and propogate through the network \n",
    "    x_batch, y_batch = get_batch(vectorized_songs, seq_length, batch_size)\n",
    "    loss = train_step(x_batch, y_batch)\n",
    "    \n",
    "    #update the progress bar\n",
    "    history.append(loss.numpy().mean())\n",
    "    plotter.plot(history)\n",
    "    \n",
    "    #update the model with the changed weights\n",
    "    if iter % 100 == 0: \n",
    "        model.save_weights(checkpoint_prefix)\n",
    "\n",
    "#save the trained model and the weights \n",
    "model.save_weights(checkpoint_prefix)"
   ]
  },
  {
   "cell_type": "code",
   "execution_count": 30,
   "metadata": {},
   "outputs": [
    {
     "data": {
      "text/plain": [
       "0.7530141"
      ]
     },
     "execution_count": 30,
     "metadata": {},
     "output_type": "execute_result"
    }
   ],
   "source": [
    "#final loss \n",
    "history[-1]\n"
   ]
  },
  {
   "cell_type": "code",
   "execution_count": null,
   "metadata": {},
   "outputs": [],
   "source": []
  }
 ],
 "metadata": {
  "kernelspec": {
   "display_name": "Python 3",
   "language": "python",
   "name": "python3"
  },
  "language_info": {
   "codemirror_mode": {
    "name": "ipython",
    "version": 3
   },
   "file_extension": ".py",
   "mimetype": "text/x-python",
   "name": "python",
   "nbconvert_exporter": "python",
   "pygments_lexer": "ipython3",
   "version": "3.7.7"
  }
 },
 "nbformat": 4,
 "nbformat_minor": 4
}
